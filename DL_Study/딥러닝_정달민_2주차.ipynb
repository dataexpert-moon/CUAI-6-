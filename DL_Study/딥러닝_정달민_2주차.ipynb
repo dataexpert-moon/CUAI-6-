{
  "nbformat": 4,
  "nbformat_minor": 0,
  "metadata": {
    "colab": {
      "provenance": [],
      "collapsed_sections": [
        "mQDuLSLVBJr1",
        "28xi63MORSWj",
        "Fuz4BnDmRrAW",
        "kX5lA1YyoY2N",
        "E7-GCAA2rbpk",
        "ptku8Ps0rbpt",
        "BT8Eh-lArbpt",
        "yrJWxjd06Bng",
        "zxZ3BuGn6Bnh",
        "FTwKj9Gk6Bni",
        "mX-BlifuEFR-"
      ],
      "authorship_tag": "ABX9TyNfqImTiQsIdKn10424BKpG",
      "include_colab_link": true
    },
    "kernelspec": {
      "name": "python3",
      "display_name": "Python 3"
    },
    "language_info": {
      "name": "python"
    }
  },
  "cells": [
    {
      "cell_type": "markdown",
      "metadata": {
        "id": "view-in-github",
        "colab_type": "text"
      },
      "source": [
        "<a href=\"https://colab.research.google.com/github/dataexpert-moon/CUAI_6year/blob/demo-repo/DL_Study/%EB%94%A5%EB%9F%AC%EB%8B%9D_%EC%A0%95%EB%8B%AC%EB%AF%BC_2%EC%A3%BC%EC%B0%A8.ipynb\" target=\"_parent\"><img src=\"https://colab.research.google.com/assets/colab-badge.svg\" alt=\"Open In Colab\"/></a>"
      ]
    },
    {
      "cell_type": "markdown",
      "source": [
        "## 밑바닥부터 시작하는 딥러닝1 **Chapter 2 퍼셉트론** 코드 복습 내용입니다."
      ],
      "metadata": {
        "id": "OVZodd2XMGpz"
      }
    },
    {
      "cell_type": "markdown",
      "source": [
        "### 2.1 퍼셉트론이란?"
      ],
      "metadata": {
        "id": "mQDuLSLVBJr1"
      }
    },
    {
      "cell_type": "markdown",
      "source": [
        "###### 퍼셉트론은 다수의 신호를 입력받아 **하나의 신호**를 출력\n",
        "###### 퍼셉트론 신호는 흐른다/안 흐른다(1이나 0)의 **두 가지 값**을 가진다.\n",
        "\n",
        "###### 입력으로 2개의 신호를 받는 퍼셉트론에서 x1,x2는 입력 신호, y는 출력 신호, w1, w2는 가중치를 뜻한다.\n",
        "###### **임계값**: 뉴런에서 보내온 신호의 총합이 정해진 한계, θ로 표시\n",
        "###### 신호의 총합이 θ보다 크면 1, 작으면 0을 반환한다.\n",
        "###### **가중치가 클수록 해당 신호가 그만큼 중요**하다.\n"
      ],
      "metadata": {
        "id": "lmw1PI-MOkz6"
      }
    },
    {
      "cell_type": "markdown",
      "source": [
        "### 2.2 단순한 논리 회로"
      ],
      "metadata": {
        "id": "28xi63MORSWj"
      }
    },
    {
      "cell_type": "markdown",
      "source": [
        "#### 2.2.1 AND 게이트"
      ],
      "metadata": {
        "id": "Fuz4BnDmRrAW"
      }
    },
    {
      "cell_type": "markdown",
      "source": [
        "#####  진리표는 입력 신호와 출력 신호의 대응 표\n",
        "#####  AND 게이트는 두 입력(x1, x2)이 모두 1일 때만 1을 출력하고, 그 외에는 0을 출력한다"
      ],
      "metadata": {
        "id": "_PLsRdaUnvzp"
      }
    },
    {
      "cell_type": "markdown",
      "source": [
        "#### 2.2.2 NAND 게이트와 OR 게이트\n"
      ],
      "metadata": {
        "id": "kX5lA1YyoY2N"
      }
    },
    {
      "cell_type": "markdown",
      "source": [
        "**NAND 게이트**는 **Not AND**를 의미하며,이 동작은 AND를 뒤집은 것이다.\n",
        "\n",
        "x1, x2가 모두 1일 때만 0을 출력하고, 그 외에는 1을 출력한다.\n",
        "\n",
        "**OR 게이트**는 입력 신호 중 하나 이상이 1이면 출력이 1이 되는 논리 회로이다.\n"
      ],
      "metadata": {
        "id": "hnggcCfYoY2N"
      }
    },
    {
      "cell_type": "markdown",
      "source": [],
      "metadata": {
        "id": "Mp6Gez4vqmnV"
      }
    },
    {
      "cell_type": "markdown",
      "source": [
        "### 2.3 퍼셉트론 구현하기"
      ],
      "metadata": {
        "id": "E7-GCAA2rbpk"
      }
    },
    {
      "cell_type": "markdown",
      "source": [
        "#### 2.3.1 간단한 구현부터"
      ],
      "metadata": {
        "id": "ptku8Ps0rbpt"
      }
    },
    {
      "cell_type": "code",
      "source": [
        "# AND 게이트 \n",
        "\n",
        "def AND(x1, x2):\n",
        "    w1, w2, theta = 0.5, 0.5, 0.7\n",
        "    tmp = w1*x1 + w2*x2\n",
        "    if tmp <= theta:\n",
        "        return 0\n",
        "    elif tmp > theta:\n",
        "        return 1\n",
        "\n",
        "# 매개변수 w1, w2, theta는 함수 안에서 초기화하고, 가중치를 곱한 입력의 총합이 임계값을 넘으면 1을 반환하고 그 외에는 0을 반환\n"
      ],
      "metadata": {
        "id": "fIRlJ-0ErhW5"
      },
      "execution_count": 1,
      "outputs": []
    },
    {
      "cell_type": "code",
      "source": [
        "AND(0, 0) # 0을 출력\n",
        "AND(1, 0) # 0을 출력\n",
        "AND(0, 1) # 0을 출력\n",
        "AND(1, 1) # 1을 출력"
      ],
      "metadata": {
        "colab": {
          "base_uri": "https://localhost:8080/"
        },
        "id": "c0LBjtf4tB8b",
        "outputId": "00223268-e7ec-45e8-b544-604f16b46c9b"
      },
      "execution_count": 3,
      "outputs": [
        {
          "output_type": "execute_result",
          "data": {
            "text/plain": [
              "1"
            ]
          },
          "metadata": {},
          "execution_count": 3
        }
      ]
    },
    {
      "cell_type": "markdown",
      "source": [
        "#### 2.3.2 가중치와 편향 도입\n"
      ],
      "metadata": {
        "id": "BT8Eh-lArbpt"
      }
    },
    {
      "cell_type": "code",
      "source": [
        "import numpy as np\n",
        "x = np.array([0, 1]) # 입력\n",
        "w = np.array([0.5, 0.5]) # 가중치\n",
        "b = -0.7 # 편향\n",
        "\n",
        "print(w*x) # 두 배열의 원소 수가 같다면 각 원소끼리 곱한다\n",
        "\n",
        "print(np.sum(w*x))\n",
        "\n",
        "print(np.sum(w*x) + b) # 값이 0보다 작으므로 0을 출력\n",
        "\n",
        "# 퍼셉트론은 입력 신호에 가중치를 곱한 값과 편향을 합하여, 그 값이 0을 넘으면 1을 출력하고 그렇지 않으면 0을 출력"
      ],
      "metadata": {
        "colab": {
          "base_uri": "https://localhost:8080/"
        },
        "id": "xiIR6yiCttfq",
        "outputId": "15b8d23c-14d3-43b1-8e45-feb323989cbc"
      },
      "execution_count": 11,
      "outputs": [
        {
          "output_type": "stream",
          "name": "stdout",
          "text": [
            "[0.  0.5]\n",
            "0.5\n",
            "-0.19999999999999996\n"
          ]
        }
      ]
    },
    {
      "cell_type": "markdown",
      "source": [
        "#### 2.3.3 가중치와 편향 구현하기"
      ],
      "metadata": {
        "id": "Jjx4KEn9396K"
      }
    },
    {
      "cell_type": "code",
      "source": [
        "# AND 게이트\n",
        "\n",
        "def AND(x1, x2):\n",
        "    x = np.array([x1, x2])\n",
        "    w = np.array([0.5, 0.5])\n",
        "    b = -0.7\n",
        "    tmp = np.sum(w*x) + b\n",
        "    if tmp <= 0:\n",
        "        return 0\n",
        "    else:\n",
        "        return 1\n",
        "\n",
        "# -θ가 편향 b 치환\n",
        "# w1, w2는 각 입력 신호가 결과에 주는 영향력(중요도)을 조절하는 매개변수\n",
        "# 편향은 뉴런이 얼마나 쉽게 활성화(결과로 1을 출력)하는지를 조정하는 매개변수\n",
        "\n"
      ],
      "metadata": {
        "id": "BVsh8Ou64Ask"
      },
      "execution_count": 12,
      "outputs": []
    },
    {
      "cell_type": "code",
      "source": [
        "# NAND 게이트\n",
        "\n",
        "def NAND(x1, x2):\n",
        "    x = np.array([x1, x2])\n",
        "    w = np.array([-0.5, -0.5]) # AND와는 가중치(w와 b)만 다르다 !\n",
        "    b = 0.7\n",
        "    tmp = np.sum(w*x) + b\n",
        "    if tmp <= 0:\n",
        "        return 0\n",
        "    else:\n",
        "        return 1\n",
        "\n",
        "# OR 게이트\n",
        "\n",
        "def OR(x1, x2):\n",
        "    x = np.array([x1, x2])\n",
        "    w = np.array([0.5, 0.5]) # AND와는 가중치(w와 b)만 다르다 !\n",
        "    b = -0.2\n",
        "    tmp = np.sum(w*x) + b\n",
        "    if tmp <= 0:\n",
        "        return 0\n",
        "    else:\n",
        "        return 1"
      ],
      "metadata": {
        "id": "pc50w0kK4QiI"
      },
      "execution_count": 14,
      "outputs": []
    },
    {
      "cell_type": "markdown",
      "source": [
        "### 2.4 퍼셉트론의 한계"
      ],
      "metadata": {
        "id": "yrJWxjd06Bng"
      }
    },
    {
      "cell_type": "markdown",
      "source": [
        "#### 2.4.1 도전! XOR 게이트"
      ],
      "metadata": {
        "id": "zxZ3BuGn6Bnh"
      }
    },
    {
      "cell_type": "markdown",
      "source": [
        "XOR 게이트는 배타적 논리합이라는 논리 회로\n",
        "\n",
        "'배타적'이란 자기 외에는 거부한다는 의미\n",
        "\n",
        "x1와 x2 중 한쪽이 1일때만 1을 출력\n",
        "\n",
        "XOR 게이트를 단층 퍼셉트론으로는 구현할 수 없다"
      ],
      "metadata": {
        "id": "Xw7Ox0zc8Uq9"
      }
    },
    {
      "cell_type": "markdown",
      "source": [
        "#### 2.4.2 선형과 비선형\n"
      ],
      "metadata": {
        "id": "FTwKj9Gk6Bni"
      }
    },
    {
      "cell_type": "markdown",
      "source": [
        "퍼셉트론은 직선 하나로 나눈 영역만 표현할 수 있다는 한계가 있다.(XOR 게이트)\n"
      ],
      "metadata": {
        "id": "FoTQXYI6-CHN"
      }
    },
    {
      "cell_type": "markdown",
      "source": [
        "### 2.5 다층 퍼셉트론이 출동한다면"
      ],
      "metadata": {
        "id": "e_qmtfPQEFR2"
      }
    },
    {
      "cell_type": "markdown",
      "source": [
        "#### 2.5.1 기존 게이트 조합하기"
      ],
      "metadata": {
        "id": "mX-BlifuEFR-"
      }
    },
    {
      "cell_type": "markdown",
      "source": [
        "x1, x2가 입력 신호, y가 출력 신호라고 가정하자.\n",
        "\n",
        "x1과 x2는 NAND와 OR 게이트의 입력이 되고, NAND와 OR의 출력이 AND 게이트의 입력으로 이어진다"
      ],
      "metadata": {
        "id": "CsySjBY4EFR-"
      }
    },
    {
      "cell_type": "markdown",
      "source": [
        "#### 2.5.2 XOR 게이트 구현하기\n"
      ],
      "metadata": {
        "id": "RBQQz1g1EFR_"
      }
    },
    {
      "cell_type": "code",
      "source": [
        "# XOR 게이트 \n",
        "def XOR(x1, x2):\n",
        "    s1 = NAND(x1, x2)\n",
        "    s2 = OR(x1, x2)\n",
        "    y = AND(s1, s2) # NAND와 OR의 AND 조합\n",
        "    return y\n",
        "\n",
        "# XOR은 2층 퍼셉트론 구조, AND와 OR는 단층 퍼셉트론 구조\n",
        "# 다층 퍼셉트론: 층이 여러 개인 퍼셉트론\n",
        "\n",
        "# 2층 퍼셉트론의 동작을 공장의 조립라인에 비유 가능\n",
        "# 공장에서 작업자들 사이에서 부품을 전달하는 일이 이루어진다\n",
        "\n",
        "# 단층 퍼셉트론으로는 표현하지 못한 것을 층을 하나 늘려 구현할 수 있다"
      ],
      "metadata": {
        "id": "8r90mRouEkn6"
      },
      "execution_count": 20,
      "outputs": []
    },
    {
      "cell_type": "code",
      "source": [
        "print(XOR(0, 0)) # 0을 출력\n",
        "print(XOR(1, 0)) # 1을 출력\n",
        "print(XOR(0, 1)) # 1을 출력\n",
        "print(XOR(1, 1)) # 0을 출력"
      ],
      "metadata": {
        "colab": {
          "base_uri": "https://localhost:8080/"
        },
        "id": "NOmNiqHEFDl0",
        "outputId": "a1538368-904d-4bfd-bb12-65f0ba972a98"
      },
      "execution_count": 22,
      "outputs": [
        {
          "output_type": "stream",
          "name": "stdout",
          "text": [
            "0\n",
            "1\n",
            "1\n",
            "0\n"
          ]
        }
      ]
    },
    {
      "cell_type": "markdown",
      "source": [
        "### 2.6 NAND에서 컴퓨터까지"
      ],
      "metadata": {
        "id": "G2FbBht1G1_2"
      }
    },
    {
      "cell_type": "markdown",
      "source": [
        "NAND 게이트만으로 컴퓨러를 만들 수 있다\n",
        "**->** 퍼셉트론으로도 컴퓨터를 표현할 수 있다\n",
        "\n",
        "퍼셉트론으로 표현하는 컴퓨터는 여러 층을 다시 층층이 겹친 구조로 만드는 방향이 자연스러운 흐릉이다\n",
        "\n",
        "퍼셉트론으로 층을 거듭 쌓으면 비선형적인 표현도 가능하고, 이론상 컴퓨터가 수행하는 처리도 모두 표현할 수 있다\n",
        "\n"
      ],
      "metadata": {
        "id": "-0v24fCZG1_3"
      }
    },
    {
      "cell_type": "markdown",
      "source": [
        "### 2.7 정리"
      ],
      "metadata": {
        "id": "KzXzMwCXINhW"
      }
    },
    {
      "cell_type": "markdown",
      "source": [
        "##### 이번 장에서 배운 내용\n",
        "* **퍼셉트론**은 입출력을 갖춘 알고리즘, 입력을 주면 정해진 규칙에 따른 값을 출력한다\n",
        "\n",
        "* 퍼셉트론에서는 **가중치**와 **편향**을 **매개변수**로 설정한다.\n",
        "\n",
        "* 퍼셉트론으로 AND, OR 게이트 등의 논리 회로를 표현할 수 있다.\n",
        "\n",
        "* XOR 게이트는 단층 퍼셉트론으로는 표현할 수 없다.\n",
        "\n",
        "* **2층 퍼셉트론**을 이용하면 **XOR 게이트**를 표현할 수 있다.\n",
        "\n",
        "* 단층 퍼셉트론은 직선형 영역만 표현할 수 있고, 다층 퍼셉트론은 비선형 영역도 표현할 수 있다.\n",
        "\n",
        "* 다층 퍼셉트론은 (이론상) 컴퓨터를 표현할 수 있다.\n"
      ],
      "metadata": {
        "id": "WEzJtEyWINhe"
      }
    }
  ]
}