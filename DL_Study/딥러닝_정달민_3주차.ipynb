{
  "nbformat": 4,
  "nbformat_minor": 0,
  "metadata": {
    "colab": {
      "provenance": [],
      "collapsed_sections": [
        "9-clUZdjjaK_",
        "RmtlKudyjogb",
        "vxlevp_dj4yl",
        "pYla698dkA1k",
        "6fJmiDZykK2n",
        "JcDSpnu5kO6t",
        "BBkMvjcVkSLz"
      ],
      "authorship_tag": "ABX9TyPfyU5Erq7VrSbqyPhkrqkJ",
      "include_colab_link": true
    },
    "kernelspec": {
      "name": "python3",
      "display_name": "Python 3"
    },
    "language_info": {
      "name": "python"
    },
    "accelerator": "GPU",
    "gpuClass": "standard"
  },
  "cells": [
    {
      "cell_type": "markdown",
      "metadata": {
        "id": "view-in-github",
        "colab_type": "text"
      },
      "source": [
        "<a href=\"https://colab.research.google.com/github/dataexpert-moon/CUAI_6year/blob/demo-repo/DL_Study/%EB%94%A5%EB%9F%AC%EB%8B%9D_%EC%A0%95%EB%8B%AC%EB%AF%BC_3%EC%A3%BC%EC%B0%A8.ipynb\" target=\"_parent\"><img src=\"https://colab.research.google.com/assets/colab-badge.svg\" alt=\"Open In Colab\"/></a>"
      ]
    },
    {
      "cell_type": "markdown",
      "source": [
        "## 밑바닥부터 시작하는 딥러닝 Chapter 3 신경망을 다루었습니다!"
      ],
      "metadata": {
        "id": "a2puofuvkd18"
      }
    },
    {
      "cell_type": "markdown",
      "source": [
        "### 3.1 퍼셉트론에서 신경망으로"
      ],
      "metadata": {
        "id": "9-clUZdjjaK_"
      }
    },
    {
      "cell_type": "markdown",
      "source": [
        "##### 지난 2장 내용 복습"
      ],
      "metadata": {
        "id": "nq-ioaBpjw0d"
      }
    },
    {
      "cell_type": "markdown",
      "source": [
        "### 3.2 활성화 함수"
      ],
      "metadata": {
        "id": "RmtlKudyjogb"
      }
    },
    {
      "cell_type": "code",
      "execution_count": null,
      "metadata": {
        "id": "JE2gtKRx9fc-"
      },
      "outputs": [],
      "source": [
        "# 활성화 함수: 입력 신호의 총합을 출력 신호로 변환하는 함수\n",
        "# 활성화 함수의 역할: 입력 신호의 총합이 활성화를 일으키는지 정하는 역할\n",
        "# 가중치가 곱해진 입력 신호의 총합을 계산하고(a), 그 합을 활성화 함수에 입력해 결과를 내는 2단계 처리\n",
        "# 활성화 함수는 퍼셉트론에서 신경망으로 가기 위한 길잡이"
      ]
    },
    {
      "cell_type": "code",
      "source": [
        "# 계단 함수는 임계값을 경계로 출력이 바뀌는데의 함수\n",
        "# 계단 함수는 입력이 0을 넘으면 1을 출력하고, 그 외에는 0을 출력하는 함수\n",
        "# 퍼셉트론에서는 활성화 함수로 계단 함수를 이용\n",
        "# 신경망에서 자주 이용하는 활성화 함수: 시그모이드 함수"
      ],
      "metadata": {
        "id": "veq5nuZcAMKM"
      },
      "execution_count": null,
      "outputs": []
    },
    {
      "cell_type": "code",
      "source": [
        "# 계단 함수 정의\n",
        "def step_function(x):\n",
        "    if x > 0:\n",
        "        return 1\n",
        "    else:\n",
        "        return 0"
      ],
      "metadata": {
        "id": "1KWjnOJgBB5w"
      },
      "execution_count": null,
      "outputs": []
    },
    {
      "cell_type": "code",
      "source": [
        "# 넘파이 배열을 받을 수 있는 계단 함수 정의\n",
        "import numpy as np\n",
        "\n",
        "def step_function_array(x):\n",
        "    y = x > 0\n",
        "    return y.astype(int)\n"
      ],
      "metadata": {
        "id": "weMD6C6kBcoK"
      },
      "execution_count": null,
      "outputs": []
    },
    {
      "cell_type": "code",
      "source": [
        "# 위 함수(넘파이의 '트릭') 자세히 살펴보기\n",
        "\n",
        "import numpy as np\n",
        "x = np.array([-1.0, 1.0, 2.0])\n",
        "print(x)\n",
        "\n",
        "y = x > 0\n",
        "print(y)\n",
        "\n",
        "y = y.astype(np.int) # astype을 이용해 y의 원소를 bool형에서 int형으로 바꾸기\n",
        "print(y)\n",
        "\n"
      ],
      "metadata": {
        "colab": {
          "base_uri": "https://localhost:8080/"
        },
        "id": "ZlAdBCjZByt6",
        "outputId": "f30e1430-20a6-4de4-830a-4d2fdf826535"
      },
      "execution_count": null,
      "outputs": [
        {
          "output_type": "stream",
          "name": "stdout",
          "text": [
            "[-1.  1.  2.]\n",
            "[False  True  True]\n",
            "[0 1 1]\n"
          ]
        },
        {
          "output_type": "stream",
          "name": "stderr",
          "text": [
            "<ipython-input-5-eb6bd2b656ab>:10: DeprecationWarning: `np.int` is a deprecated alias for the builtin `int`. To silence this warning, use `int` by itself. Doing this will not modify any behavior and is safe. When replacing `np.int`, you may wish to use e.g. `np.int64` or `np.int32` to specify the precision. If you wish to review your current use, check the release note link for additional information.\n",
            "Deprecated in NumPy 1.20; for more details and guidance: https://numpy.org/devdocs/release/1.20.0-notes.html#deprecations\n",
            "  y = y.astype(np.int) # astype을 이용해 y의 원소를 bool형에서 int형으로 바꾸기\n"
          ]
        }
      ]
    },
    {
      "cell_type": "code",
      "source": [
        "# 계단 함수 그래프 그리기\n",
        "import numpy as np\n",
        "import matplotlib.pylab as plt\n",
        "\n",
        "def step_function(x):\n",
        "    return np.array(x > 0, dtype = int)\n",
        "\n",
        "x = np.arange(-5.0, 5.0, 0.1) # -5.0에서 5.0전까지 0.1간격의 넘파이 배열 생성\n",
        "y = step_function(x)\n",
        "plt.plot(x, y)\n",
        "plt.ylim(-0.1, 1.1) # y축의 범위 지정\n",
        "plt.show() # 계단 함수는 0을 경계로 출력이 0에서 1로 바뀐다."
      ],
      "metadata": {
        "colab": {
          "base_uri": "https://localhost:8080/",
          "height": 265
        },
        "id": "Q2MlDXM9CAoI",
        "outputId": "88726b85-15eb-4331-b247-2d72b03f967e"
      },
      "execution_count": null,
      "outputs": [
        {
          "output_type": "display_data",
          "data": {
            "text/plain": [
              "<Figure size 432x288 with 1 Axes>"
            ],
            "image/png": "[encoded data removed]"
          },
          "metadata": {
            "needs_background": "light"
          }
        }
      ]
    },
    {
      "cell_type": "code",
      "source": [
        "# 시그모이드 함수 구현하기\n",
        "def sigmoid(x):\n",
        "    return 1 / (1 + np.exp(-x)) # 시그모이드 공식\n",
        "\n",
        "x = np.array([-1.0, 1.0, 2.0])\n",
        "print(sigmoid(x))\n",
        "\n",
        "# 브로드캐스팅 이용하기\n",
        "\n",
        "t = np.array([1.0, 2.0, 3.0])\n",
        "print(1.0 + t)\n",
        "print(1.0 / t)\n"
      ],
      "metadata": {
        "colab": {
          "base_uri": "https://localhost:8080/"
        },
        "id": "adqwVYNjD-bx",
        "outputId": "dfa2d480-1be7-4192-f80b-19f6781f8781"
      },
      "execution_count": null,
      "outputs": [
        {
          "output_type": "stream",
          "name": "stdout",
          "text": [
            "[0.26894142 0.73105858 0.88079708]\n",
            "[2. 3. 4.]\n",
            "[1.         0.5        0.33333333]\n"
          ]
        }
      ]
    },
    {
      "cell_type": "code",
      "source": [
        "# 시그모이드 함수 그래프로 그려보기\n",
        "\n",
        "x = np.arange(-5.0, 5.0, 0.1)\n",
        "y = sigmoid(x)\n",
        "plt.plot(x, y)\n",
        "plt.ylim(-0.1, 1.1) # y축 범위 지정\n",
        "plt.show()\n",
        "\n"
      ],
      "metadata": {
        "colab": {
          "base_uri": "https://localhost:8080/",
          "height": 265
        },
        "id": "-9T2qL-aEltT",
        "outputId": "1f969142-9eaf-4238-aa9d-bec0ee0c57f0"
      },
      "execution_count": null,
      "outputs": [
        {
          "output_type": "display_data",
          "data": {
            "text/plain": [
              "<Figure size 432x288 with 1 Axes>"
            ],
            "image/png": "[encoded data removed]"
          },
          "metadata": {
            "needs_background": "light"
          }
        }
      ]
    },
    {
      "cell_type": "code",
      "source": [
        "# 시그모이드 함수와 계단 함수 비교\n",
        "# 차이점: 시그모이드 함수가 계단 함수보다 부드러운 곡선으로 표현되어 매끄럽다\n",
        "# 공통점: \n",
        "# 둘 다 입력이 작을 때의 출력은 0에 가깝고, 입력이 커지면 출력이 1에 가까워지는 구조이다\n",
        "# 입력이 아무리 작거나 커도 출력은 0에서 1사이다\n",
        "# 비선형 함수이다"
      ],
      "metadata": {
        "id": "diXcPLhiDBVd"
      },
      "execution_count": null,
      "outputs": []
    },
    {
      "cell_type": "code",
      "source": [
        "# 선형 함수: 출력이 입력의 상수배만큼 변하는 함수\n",
        "# 비선형 함수: 선형이 아닌 함수, 직선 1개로는 그릴 수 없는 함수\n",
        "\n",
        "# 신경망에서의 함수는 비선형 함수를 사용해야 한다\n",
        "# 그 이유는 선형 함수를 이용하면 신경망의 층을 깊게 하는 의미가 없어지기 때문이다"
      ],
      "metadata": {
        "id": "vf0C7GJBFfg6"
      },
      "execution_count": null,
      "outputs": []
    },
    {
      "cell_type": "code",
      "source": [
        "# ReLU(렐루) 함수\n",
        "# ReLU는 입력이 0을 넘으면 그 입력을 그대로 출력하고, 0이하면 0을 출력하는 함수\n",
        "\n",
        "def relu(x):\n",
        "    return np.maximum(0, x) # maximum은 두 입력 중 큰 값을 선택해 반환하는 함수"
      ],
      "metadata": {
        "id": "90RSzEH5GOeb"
      },
      "execution_count": null,
      "outputs": []
    },
    {
      "cell_type": "markdown",
      "source": [
        "### 3.3 다차원 배열의 계산"
      ],
      "metadata": {
        "id": "vxlevp_dj4yl"
      }
    },
    {
      "cell_type": "code",
      "source": [
        "# 다차원 배열의 계산\n",
        "# 다차원 배열은 숫자의 집합"
      ],
      "metadata": {
        "id": "SvMmi_EmIvY0"
      },
      "execution_count": null,
      "outputs": []
    },
    {
      "cell_type": "code",
      "source": [
        "# 1차원 배열의 집합\n",
        "import numpy as np\n",
        "a = np.array([1, 2, 3, 4])\n",
        "print(a)\n",
        "\n",
        "print(np.ndim(a)) # 배열의 차원 확인\n",
        "\n",
        "print(a.shape) # 배열의 형상 확인\n",
        "# 1차원 배열은 다차원 배열일 떄와 동일한 형태로 결과를 반환하기에 튜플을 반환\n",
        "\n",
        "print(a.shape[0]) \n"
      ],
      "metadata": {
        "colab": {
          "base_uri": "https://localhost:8080/"
        },
        "id": "A3is3gaQI3ok",
        "outputId": "4648ed4d-e504-43cd-8531-5a0377cde052"
      },
      "execution_count": null,
      "outputs": [
        {
          "output_type": "stream",
          "name": "stdout",
          "text": [
            "[1 2 3 4]\n",
            "1\n",
            "(4,)\n",
            "4\n"
          ]
        }
      ]
    },
    {
      "cell_type": "code",
      "source": [
        "# 2차원 배열의 집합\n",
        "b = np.array([[1, 2], [3, 4], [5, 6]])\n",
        "print(b)\n",
        "\n",
        "print(np.ndim(b))\n",
        "\n",
        "print(b.shape)\n",
        "\n",
        "print(b.shape[0])"
      ],
      "metadata": {
        "colab": {
          "base_uri": "https://localhost:8080/"
        },
        "id": "rsYmyWeEJk1D",
        "outputId": "845e648d-36bb-4eaf-f3a9-471fae3ad06b"
      },
      "execution_count": null,
      "outputs": [
        {
          "output_type": "stream",
          "name": "stdout",
          "text": [
            "[[1 2]\n",
            " [3 4]\n",
            " [5 6]]\n",
            "2\n",
            "(3, 2)\n",
            "3\n"
          ]
        }
      ]
    },
    {
      "cell_type": "code",
      "source": [
        "# 행렬의 곱\n",
        "# 행렬 곱은 왼쪽 행렬의 행(가로)과 오른쪽 형태의 열(세로)을 원소별로 곱하고 그 값을 더해서 계산\n",
        "\n",
        "a = np.array([[1, 2], [3, 4]])\n",
        "print(a.shape)\n",
        "\n",
        "b = np.array([[5, 6], [7, 8]])\n",
        "print(b.shape)\n",
        "\n",
        "print(np.dot(a, b)) # 행렬의 내적\n",
        "\n"
      ],
      "metadata": {
        "colab": {
          "base_uri": "https://localhost:8080/"
        },
        "id": "904ZVLxsJTdE",
        "outputId": "8c6323b3-10bd-4101-8263-4a77d2fe180a"
      },
      "execution_count": null,
      "outputs": [
        {
          "output_type": "stream",
          "name": "stdout",
          "text": [
            "(2, 2)\n",
            "(2, 2)\n",
            "[[19 22]\n",
            " [43 50]]\n"
          ]
        }
      ]
    },
    {
      "cell_type": "code",
      "source": [
        "# np.dot(a, b) 와 np.dot(b, a)는 다르다\n",
        "# 댜챠원 배열을 곱하려면 두 행렬의 대응하는 차원의 원소 수를 일치시켜야 한다\n",
        "\n",
        "a = np.array([[1, 2, 3], [4, 5, 6]])\n",
        "print(a.shape)\n",
        "\n",
        "b = np.array([[1, 2], [3, 4], [5, 6]])\n",
        "print(b.shape)\n",
        "\n",
        "print(np.dot(a, b)) # 2x3, 3x2 => 2x2 행렬\n"
      ],
      "metadata": {
        "colab": {
          "base_uri": "https://localhost:8080/"
        },
        "id": "eXeomuQcKh0J",
        "outputId": "152ef9c2-e491-4468-9873-2a864c068d5f"
      },
      "execution_count": null,
      "outputs": [
        {
          "output_type": "stream",
          "name": "stdout",
          "text": [
            "(2, 3)\n",
            "(3, 2)\n",
            "[[22 28]\n",
            " [49 64]]\n"
          ]
        }
      ]
    },
    {
      "cell_type": "code",
      "source": [
        "# 대응하는 차원의 원소 수를 일치시키는 예시\n",
        "\n",
        "a = np.array([[1, 2], [3, 4], [5, 6]]) # 3x2\n",
        "print(a.shape)\n",
        "\n",
        "b = np.array([7, 8]) # 1차원 배열이기 때문에 1x2나 2x1를 선택하면 된다\n",
        "print(b.shape)\n",
        "\n",
        "print(np.dot(a, b))\n"
      ],
      "metadata": {
        "colab": {
          "base_uri": "https://localhost:8080/"
        },
        "id": "8OloIpAYK_ws",
        "outputId": "ad7b2e3b-6114-483e-ceff-88c4774687d2"
      },
      "execution_count": null,
      "outputs": [
        {
          "output_type": "stream",
          "name": "stdout",
          "text": [
            "(3, 2)\n",
            "(2,)\n",
            "[23 53 83]\n"
          ]
        }
      ]
    },
    {
      "cell_type": "code",
      "source": [
        "# 신경망에서의 행렬 곱\n",
        "# 편향과 활성화 함수를 생략하고 가중치만 갖는 간단한 신경망 구현하기\n",
        "\n",
        "x = np.array([1, 2])\n",
        "print(x.shape)\n",
        "\n",
        "w = np.array([[1, 3, 5], [2, 4, 6]])\n",
        "print(w)\n",
        "print(w.shape)\n",
        "\n",
        "y = np.dot(x, w) # x와 w의 대응하는 차원의 원소 수가 같아야 한다\n",
        "print(y)\n"
      ],
      "metadata": {
        "colab": {
          "base_uri": "https://localhost:8080/"
        },
        "id": "UxvaJFuYLrp6",
        "outputId": "20b1ea2e-91b4-4272-ba31-e9d5e40a24ba"
      },
      "execution_count": null,
      "outputs": [
        {
          "output_type": "stream",
          "name": "stdout",
          "text": [
            "(2,)\n",
            "[[1 3 5]\n",
            " [2 4 6]]\n",
            "(2, 3)\n",
            "[ 5 11 17]\n"
          ]
        }
      ]
    },
    {
      "cell_type": "markdown",
      "source": [
        "### 3.4 3층 신경망 구현하기"
      ],
      "metadata": {
        "id": "pYla698dkA1k"
      }
    },
    {
      "cell_type": "code",
      "source": [
        "# 3층 신경망 구현하기\n",
        "# 핵심은 신경망에서의 계산을 행렬 계산으로 정리할 수 있다는 것\n",
        "# 신경망 각 층의 계산은 행렬의 곱으로 처리할 수 있다\n",
        "\n",
        "x = np.array([1.0, 0.5]) # 입력 신호 2개\n",
        "w1 = np.array([[0.1, 0.3, 0.5], [0.2, 0.4, 0.6]]) # 가중치\n",
        "b1 = np.array([0.1, 0.2, 0.3]) # 편향\n",
        "\n",
        "print(w1.shape) # (2, 3)\n",
        "print(x.shape) # (2, )\n",
        "print(b1.shape) # (3, 1)\n",
        "\n",
        "a1 = np.dot(x, w1) + b1\n",
        "print(a1)\n"
      ],
      "metadata": {
        "colab": {
          "base_uri": "https://localhost:8080/"
        },
        "id": "RW1neNCTMaPu",
        "outputId": "db7d2dfc-11e7-4601-dad3-feb9eafdfba9"
      },
      "execution_count": null,
      "outputs": [
        {
          "output_type": "stream",
          "name": "stdout",
          "text": [
            "(2, 3)\n",
            "(2,)\n",
            "(3,)\n",
            "[0.3 0.7 1.1]\n"
          ]
        }
      ]
    },
    {
      "cell_type": "code",
      "source": [
        "# 활성화 함수에서의 계산\n",
        "\n",
        "z1 = sigmoid(a1)\n",
        "\n",
        "# 1층의 각 뉴런에 해당하는 값\n",
        "print(a1) # [0.3, 0.7, 1.1] \n",
        "\n",
        "# 활성화 함수인 시그모이드 함수를 이용하여 신호를 변환한다\n",
        "print(z1) # [0.57444252 0.66818777 0.75026011]\n"
      ],
      "metadata": {
        "colab": {
          "base_uri": "https://localhost:8080/"
        },
        "id": "KRNYQcBCOy25",
        "outputId": "21e99fe7-c097-4476-aa81-2d869699a4b8"
      },
      "execution_count": null,
      "outputs": [
        {
          "output_type": "stream",
          "name": "stdout",
          "text": [
            "[0.3 0.7 1.1]\n",
            "[0.57444252 0.66818777 0.75026011]\n"
          ]
        }
      ]
    },
    {
      "cell_type": "code",
      "source": [
        "# 1층에서 2층으로 가는 과정 구현하기\n",
        "\n",
        "# 1층의 출력 z1이 2층의 입력이 된다는 점을 제외하면 0층에서 1층으로 가는 구현과 동일하다\n",
        "# 가중치의 차원은 이전 층의 뉴런 개수, 현재 층의 뉴런 개수\n",
        "\n",
        "w2 = np.array([[0.1, 0.4], [0.2, 0.5], [0.3, 0.6]]) # 1층 뉴런에서의 가중치  \n",
        "b2 = np.array([0.1, 0.2]) # 편향\n",
        "\n",
        "print(z1.shape) # (3, )\n",
        "print(w2.shape) # (3, 2)\n",
        "print(b2.shape) # (2, )\n",
        "\n",
        "a2 = np.dot(z1, w2) + b2\n",
        "print(a2)\n",
        "\n",
        "z2 = sigmoid(a2) # 입력 신호의 총합을 출력 신호로 변환해주는 활성화 함수인 sigmoid 함수 실행\n",
        "print(z2)"
      ],
      "metadata": {
        "colab": {
          "base_uri": "https://localhost:8080/"
        },
        "id": "A7fyWexDPMfp",
        "outputId": "389ce120-acee-4d7a-de7b-13c86d63d03c"
      },
      "execution_count": null,
      "outputs": [
        {
          "output_type": "stream",
          "name": "stdout",
          "text": [
            "(3,)\n",
            "(3, 2)\n",
            "(2,)\n",
            "[0.51615984 1.21402696]\n",
            "[0.62624937 0.7710107 ]\n"
          ]
        }
      ]
    },
    {
      "cell_type": "code",
      "source": [
        "# 2층에서 출력층으로의 신호 전달\n",
        "# 이전에서 했던 구현과 같지만, 딱 하나 활성화 함수만 지금까지의 은닉층과 다르다\n",
        "# 회귀에서는 항등 함수, 2클래스 분류에서는 시그모이드 함수, 다중 클래스 분류에는 소프트맥스 함수를 사용하는 것이 일반적이다\n",
        "\n",
        "# 항등 함수 정의\n",
        "def identity_function(x):\n",
        "    return x\n",
        "\n",
        "w3 = np.array([[0.1, 0.3], [0.2, 0.4]]) # 2층 뉴런에서의 가중치\n",
        "b3 = np.array([0.1, 0.2]) # 편향\n",
        "\n",
        "a3 = np.dot(z2, w3) + b3 # 가중치의 합\n",
        "y = identity_function(a3) # 혹은 y = y3\n",
        "\n"
      ],
      "metadata": {
        "id": "7xUFeC9PQL52"
      },
      "execution_count": null,
      "outputs": []
    },
    {
      "cell_type": "code",
      "source": [
        "# 구현 정리\n",
        "\n",
        "# 가중치와 편향을 초기화하고 이들을 딕셔너리 변수인 network에 저장하는 함수(init_network)\n",
        "def init_network():\n",
        "    network = {}\n",
        "    # 1층과 2층의 뉴런의 개수는 각각 3,2개이다\n",
        "    network['w1'] = np.array([[0.1, 0.3, 0.5], [0.2, 0.4, 0.6]]) # 0층 뉴런의 가중치\n",
        "    network['b1'] = np.array([0.1, 0.2, 0.3]) # 0층 뉴런의 편향\n",
        "    network['w2'] = np.array([[0.1, 0.4], [0.2, 0.5], [0.3, 0.6]]) # 1층 뉴런의 가중치\n",
        "    network['b2'] = np.array([0.1, 0.2]) # 1층 뉴런의 편향\n",
        "    network['w3'] = np.array([[0.1, 0.3], [0.2, 0.4]]) # 2층 뉴런의 가중치\n",
        "    network['b3'] = np.array([0.1, 0.2]) # 2층 뉴런의 편향\n",
        "    \n",
        "    return network\n",
        "\n",
        "# 입력 신호를 출력으로 변환하는 처리 과정을 구현한 함수(forward)\n",
        "def forward(network, x):\n",
        "    w1, w2, w3 = network['w1'], network['w2'], network['w3']\n",
        "    b1, b2, b3 = network['b1'], network['b2'], network['b3']\n",
        "\n",
        "    a1 = np.dot(x, w1) + b1\n",
        "    z1 = sigmoid(a1)\n",
        "    a2 = np.dot(z1, w2) + b2\n",
        "    z2 = sigmoid(a2)\n",
        "    a3 = np.dot(z2, w3) + b3\n",
        "    y = identity_function(a3)\n",
        "\n",
        "    return y\n",
        "\n",
        "network = init_network()\n",
        "x = np.array([1.0, 0.5])\n",
        "y = forward(network, x)\n",
        "print(y) # [0.31682708 0.69627909]\n",
        "\n"
      ],
      "metadata": {
        "colab": {
          "base_uri": "https://localhost:8080/"
        },
        "id": "hXZxQCtPSqRE",
        "outputId": "548b3f80-f8a5-4e5e-86b8-7385b932e549"
      },
      "execution_count": null,
      "outputs": [
        {
          "output_type": "stream",
          "name": "stdout",
          "text": [
            "[0.31682708 0.69627909]\n"
          ]
        }
      ]
    },
    {
      "cell_type": "markdown",
      "source": [
        "### 3.5 출력층 설계하기"
      ],
      "metadata": {
        "id": "6fJmiDZykK2n"
      }
    },
    {
      "cell_type": "code",
      "source": [
        "# 신경망은 분류와 회귀 모두 이용 가능\n",
        "# 일반적으로 회귀에는 항등 함수, 분류에는 소프트맥스 함수를 사용한다"
      ],
      "metadata": {
        "id": "BRMrhiAPVdf-"
      },
      "execution_count": null,
      "outputs": []
    },
    {
      "cell_type": "code",
      "source": [
        "# 항등 함수는 입력을 그대로 출력\n",
        "# 항등 함수에 의한 변환은 은닉층에서의 활성화 함수와 마찬가지로 화살표를 그린다\n",
        "\n",
        "# 분류에서 사용하는 소프트맥스 함수의 특징은 출력층의 각 뉴런이 모든 입력 신호에서 영향을 받는다"
      ],
      "metadata": {
        "id": "UbOrMjB_X5fE"
      },
      "execution_count": null,
      "outputs": []
    },
    {
      "cell_type": "code",
      "source": [
        "import numpy as np\n",
        "\n",
        "a = np.array([0.3, 2.9, 4.0])\n",
        "exp_a = np.exp(a)\n",
        "print(exp_a)\n",
        "\n",
        "sum_exp_a = np.sum(exp_a)\n",
        "print(sum_exp_a)\n",
        "\n",
        "y = exp_a / sum_exp_a\n",
        "print(y)\n"
      ],
      "metadata": {
        "colab": {
          "base_uri": "https://localhost:8080/"
        },
        "id": "NGWknmxSY-45",
        "outputId": "25e6029b-5a0e-4965-b6fe-89a8fb27e24c"
      },
      "execution_count": null,
      "outputs": [
        {
          "output_type": "stream",
          "name": "stdout",
          "text": [
            "[ 1.34985881 18.17414537 54.59815003]\n",
            "74.1221542101633\n",
            "[0.01821127 0.24519181 0.73659691]\n"
          ]
        }
      ]
    },
    {
      "cell_type": "code",
      "source": [
        "# 소프트맥스 함수 정의\n",
        "def softmax(a):\n",
        "    exp_a = np.exp(a)\n",
        "    sum_exp_a = np.sum(exp_a)\n",
        "    y = exp_a / sum_exp_a\n",
        "\n",
        "    return y\n"
      ],
      "metadata": {
        "id": "7UmzhLzcZTus"
      },
      "execution_count": null,
      "outputs": []
    },
    {
      "cell_type": "code",
      "source": [
        "# 소프트맥스 함수 구현 시 주의점\n",
        "# 소프트맥스 함수는 지수 함수를 사용하므로, 오버플로 문제가 발생한다\n",
        "# 오버플로란 표현할 수 있는 수의 범위가 한정되어 너무 큰 값은 표현 할 수 없다는 문제\n",
        "# 오버플로를 막을 목적으로는 입력 신호 중 최댓값을 이용하는 것이 일반적\n",
        "\n",
        "a = np.array([1010, 1000, 990])\n",
        "\n",
        "# 소프트맥스 함수의 계산\n",
        "# np.exp(a) / np.sum(np.exp(a)) # array([nan, nan, nan]) , 제대로 계산되지 않는다\n",
        "\n",
        "# 입력 신호 중 최댓값(여기에서는 c)을 빼주면 올바르게 계산 가능하다\n",
        "\n",
        "c = np.max(a) # c는 1010 (최댓값)\n",
        "print(a - c)\n",
        "\n",
        "print(np.exp(a-c) / np.sum(np.exp(a-c))) "
      ],
      "metadata": {
        "colab": {
          "base_uri": "https://localhost:8080/"
        },
        "id": "ZFV6i_zSZkfw",
        "outputId": "3457ede4-eabb-4d21-c222-cd742472c0b0"
      },
      "execution_count": null,
      "outputs": [
        {
          "output_type": "stream",
          "name": "stdout",
          "text": [
            "[  0 -10 -20]\n",
            "[9.99954600e-01 4.53978686e-05 2.06106005e-09]\n"
          ]
        }
      ]
    },
    {
      "cell_type": "code",
      "source": [
        "# 임의의 정수(최댓값)를 사용하여 소프트맥스 함수 다시 정의하기\n",
        "def softmax(a):\n",
        "    c = np.max(a)\n",
        "    exp_a = np.exp(a - c)\n",
        "    sum_exp_a = np.sum(exp_a)\n",
        "    y = exp_a / sum_exp_a\n",
        "\n",
        "    return y\n"
      ],
      "metadata": {
        "id": "id2llSrhcvCg"
      },
      "execution_count": null,
      "outputs": []
    },
    {
      "cell_type": "code",
      "source": [
        "# 소프트맥스 함수의 특징\n",
        "# 소프트맥스 함수의 출력은 0에서 1.0 사이의 실수이며, 출력의 총합은 1이다 (매우 중요)\n",
        "# 소프트맥스 함수를 이용함으로써 문제를 확률적(통계적)으로 대응할 수 있다\n",
        "\n",
        "a = np.array([0.3, 2.9, 4.0])\n",
        "y = softmax(a)\n",
        "print(y)\n",
        "print(np.sum(y))\n",
        "\n",
        "# 여기서는 y[2]의 확률이 가장 높으므로, 답은 \"2번째 클래스\"라고 할 수 있다."
      ],
      "metadata": {
        "colab": {
          "base_uri": "https://localhost:8080/"
        },
        "id": "RL51OQZ8dTKf",
        "outputId": "e8ba1436-5d0f-4092-9747-d31a3ab313cc"
      },
      "execution_count": null,
      "outputs": [
        {
          "output_type": "stream",
          "name": "stdout",
          "text": [
            "[0.01821127 0.24519181 0.73659691]\n",
            "1.0\n"
          ]
        }
      ]
    },
    {
      "cell_type": "markdown",
      "source": [
        "### 3.6 손글씨 숫자 인식"
      ],
      "metadata": {
        "id": "JcDSpnu5kO6t"
      }
    },
    {
      "cell_type": "code",
      "source": [
        "# 소프트맥스 함수를 적용해도 각 원소의 대응 관계는 변하지 않는다\n",
        "# 그 이유는 소프트맥스 함수에서 사용되는 지수함수가 단조 증가 함수이기 떄문이다\n",
        "# 따라서 현업(신경망을 이용한 분류)에서는 일반적으로 가장 큰 출력을 내는 뉴런에 해당하는 클래스만 인식한다\n",
        "# 결과적으로 신경망으로 분류할 때는 출력층의 소프트맥스 함수를 생략해도 된다"
      ],
      "metadata": {
        "id": "F7R0vPGad4zl"
      },
      "execution_count": null,
      "outputs": []
    },
    {
      "cell_type": "code",
      "source": [
        "# 출력층의 뉴런 수는 풀려는 문제에 맞게 적절히 정해야 한다\n",
        "# 예를 들어 입력 이미지를 숫자 0부터 9로 분류하는 문제라면 출력층의 뉴런은 총 10개로 설정한다\n",
        "# 색이 가장 짙은 뉴런이 가장 큰 값을 출력하며, 이 신경망이 선택한 클래스는 입력 이미지를 해당 원소의 레이블로 판단한다"
      ],
      "metadata": {
        "id": "C0GC2ACVe7Dw"
      },
      "execution_count": null,
      "outputs": []
    },
    {
      "cell_type": "code",
      "source": [
        "# 신경망은 2단계를 거쳐 문제를 해결한다\n",
        "# 1. 훈련 데이터를 사용해 가중치 매개변수를 학습한다\n",
        "# 2. 추론 단계에서는, 앞서 학습한 매개변수를 사용하여 입력 데이터를 분류한다\n",
        "\n",
        "from tensorflow.keras.datasets import mnist\n",
        "\n",
        "(x_train, t_train), (x_test, t_test) = mnist.load_data()\n",
        "\n",
        "# 형상 변환\n",
        "x_train = x_train.reshape(60000, 28 * 28) # (60000, 28, 28)\n",
        "x_test = x_test.reshape(10000, 28 * 28)\n",
        "\n",
        "# 각 데이터의 형상 출력\n",
        "print(x_train.shape) # (60000, 784)\n",
        "print(t_train.shape) # (60000, )\n",
        "print(x_test.shape) # (10000, 784)\n",
        "print(t_test.shape) # (10000, )\n"
      ],
      "metadata": {
        "colab": {
          "base_uri": "https://localhost:8080/"
        },
        "id": "tGTP1aiEfcQu",
        "outputId": "285454ba-200e-4183-f261-927f52be6743"
      },
      "execution_count": null,
      "outputs": [
        {
          "output_type": "stream",
          "name": "stdout",
          "text": [
            "(60000, 784)\n",
            "(60000,)\n",
            "(10000, 784)\n",
            "(10000,)\n"
          ]
        }
      ]
    },
    {
      "cell_type": "code",
      "source": [
        "# MNIST 이미지 화면으로 불러오기\n",
        "# 입력층 뉴런은 874개, 출력층 뉴런은 10개로 구성\n",
        "# 입력층 뉴런은 이미지 크기가 28x28이고, 출력층 뉴런은 0부터 9까지의 숫자를 구분하기 때문이다\n",
        "from google.colab import drive\n",
        "drive.mount('/content/drive/')\n",
        "from tensorflow.keras.datasets import mnist\n",
        "import numpy as np\n",
        "from PIL import Image\n",
        "\n",
        "\n",
        "def img_show(img):\n",
        "    pil_img = Image.fromarray(np.uint8(img))\n",
        "    pil_img.show()\n",
        "\n",
        "\n",
        "(x_train, t_train), (x_test, t_test) = mnist.load_data()\n",
        "\n",
        "# 형상 변환\n",
        "x_train = x_train.reshape(60000, 28 * 28) # (60000, 28, 28)\n",
        "x_test = x_test.reshape(10000, 28 * 28)\n",
        "\n",
        "img = x_train[0]\n",
        "label = t_train[0]\n",
        "print(label) # 5\n",
        "\n",
        "print(img.shape)\n",
        "img = img.reshape(28, 28) # 원래 이미지의 모양으로 분할\n",
        "print(img.shape) # (28, 28)\n",
        "\n",
        "img_show(img)"
      ],
      "metadata": {
        "id": "RwftMipb6oVS",
        "colab": {
          "base_uri": "https://localhost:8080/",
          "height": 136
        },
        "outputId": "a3455d7c-2fa1-4461-931c-7a64227b6a14"
      },
      "execution_count": null,
      "outputs": [
        {
          "output_type": "stream",
          "name": "stdout",
          "text": [
            "Drive already mounted at /content/drive/; to attempt to forcibly remount, call drive.mount(\"/content/drive/\", force_remount=True).\n",
            "5\n",
            "(784,)\n",
            "(28, 28)\n"
          ]
        },
        {
          "output_type": "display_data",
          "data": {
            "text/plain": [
              "<PIL.Image.Image image mode=L size=28x28 at 0x7F2FDCF23160>"
            ],
            "image/png": "[encoded data removed]"
          },
          "metadata": {}
        }
      ]
    },
    {
      "cell_type": "code",
      "source": [
        "# 순서대로 작업 처리할 세 함수 정의하기\n",
        "from google.colab import drive\n",
        "drive.mount('/content/gdrive')\n",
        "import sys\n",
        "import os\n",
        "import pickle\n",
        "\n",
        "def get_data():\n",
        "    (x_train, y_train), (x_test, y_test) = mnist.load_data()\n",
        "    # 형상 변환\n",
        "    x_train = x_train.reshape(60000, 28 * 28) # (60000, 28, 28)\n",
        "    x_test = x_test.reshape(10000, 28 * 28)\n",
        "    return x_test, y_test\n",
        "\n",
        "def init_network():\n",
        "    file_path = \"/content/gdrive/MyDrive/CUAI_6th/DL1_Study/Chapter_3/sample_weight.pkl\"\n",
        "    with open(file_path, 'rb') as f:\n",
        "        network = pickle.load(f)\n",
        "    \n",
        "    return network\n",
        "\n",
        "def predict(network, x):\n",
        "    W1, W2, W3 = network['W1'], network['W2'], network['W3']\n",
        "    b1, b2, b3 = network['b1'], network['b2'], network['b3']\n",
        "    a1 = np.dot(x, W1) + b1\n",
        "    z1 = sigmoid(a1)\n",
        "    a2 = np.dot(z1, W2) + b2\n",
        "    z2 = sigmoid(a2)\n",
        "    a3 = np.dot(z2, W3) + b3\n",
        "    y = softmax(a3)\n",
        "\n",
        "\n",
        "    return y\n",
        "\n"
      ],
      "metadata": {
        "id": "DXuw3JGx9iZ7",
        "colab": {
          "base_uri": "https://localhost:8080/"
        },
        "outputId": "9654446b-3ef5-4d9e-c581-4ed0b8da0e37"
      },
      "execution_count": null,
      "outputs": [
        {
          "output_type": "stream",
          "name": "stdout",
          "text": [
            "Drive already mounted at /content/gdrive; to attempt to forcibly remount, call drive.mount(\"/content/gdrive\", force_remount=True).\n"
          ]
        }
      ]
    },
    {
      "cell_type": "code",
      "source": [
        "x, t = get_data()\n",
        "network = init_network()\n",
        "accuracy_cnt = 0\n",
        "for i in range(len(x)):\n",
        "    y = predict(network, x[i])\n",
        "    p = np.argmax(y) # 확률이 가장 높은 원소의 인덱스를 얻는다\n",
        "    if p == t[i]: # 예측 결과가 맞다면\n",
        "        accuracy_cnt += 1 # 정확도 추가\n",
        "\n",
        "print(\"Accuracy: \" + str(float(accuracy_cnt / len(x))))\n"
      ],
      "metadata": {
        "id": "cTg2DHvl_0xv",
        "colab": {
          "base_uri": "https://localhost:8080/"
        },
        "outputId": "dd2560b7-fb23-46df-926d-ffa413530b35"
      },
      "execution_count": null,
      "outputs": [
        {
          "output_type": "stream",
          "name": "stderr",
          "text": [
            "<ipython-input-7-29bf1fc0be08>:3: RuntimeWarning: overflow encountered in exp\n",
            "  return 1 / (1 + np.exp(-x)) # 시그모이드 공식\n"
          ]
        },
        {
          "output_type": "stream",
          "name": "stdout",
          "text": [
            "Accuracy0.9207\n"
          ]
        }
      ]
    },
    {
      "cell_type": "code",
      "source": [
        "# 다차원 배열의 대응하는 차원의 원소 수가 일치\n",
        "x, _ = get_data()\n",
        "network = init_network()\n",
        "W1, W2, W3 = network['W1'], network['W2'], network['W3']\n",
        "\n",
        "print(x.shape)\n",
        "print(x[0].shape)\n",
        "print(W1.shape)\n",
        "print(W2.shape)\n",
        "print(W3.shape)\n",
        "\n",
        "# 배치(묶음)\n",
        "# 배치는 모델의 가중치를 한번 업데이트시킬 때 사용되는 샘플들의 묶음\n",
        "\n"
      ],
      "metadata": {
        "id": "z22uyphjBg_q",
        "colab": {
          "base_uri": "https://localhost:8080/"
        },
        "outputId": "77045dc2-d36e-4088-a531-36f513942c62"
      },
      "execution_count": null,
      "outputs": [
        {
          "output_type": "stream",
          "name": "stdout",
          "text": [
            "(10000, 784)\n",
            "(784,)\n",
            "(784, 50)\n",
            "(50, 100)\n",
            "(100, 10)\n"
          ]
        }
      ]
    },
    {
      "cell_type": "code",
      "source": [
        "# 배치 처리 구현\n",
        "x, t = get_data()\n",
        "network = init_network()\n",
        "\n",
        "batch_size = 100 # 배치 크기\n",
        "accuracy_cnt = 0\n",
        "\n",
        "for i in range(0, len(x), batch_size): # range(start, end, step)\n",
        "    x_batch = x[i:i+batch_size] \n",
        "    y_batch = predict(network, x_batch)\n",
        "    p = np.argmax(y_batch, axis = 1)\n",
        "    accuracy_cnt += np.sum(p == t[i:i+batch_size])\n",
        "\n",
        "print(\"Accuracy: \" + str(float(accuracy_cnt) / len(x)))"
      ],
      "metadata": {
        "colab": {
          "base_uri": "https://localhost:8080/"
        },
        "id": "QYtmLDHagiZE",
        "outputId": "0d00b737-f263-4f97-9b55-010efddba2fa"
      },
      "execution_count": null,
      "outputs": [
        {
          "output_type": "stream",
          "name": "stdout",
          "text": [
            "Accuracy: 0.9207\n"
          ]
        },
        {
          "output_type": "stream",
          "name": "stderr",
          "text": [
            "<ipython-input-7-29bf1fc0be08>:3: RuntimeWarning: overflow encountered in exp\n",
            "  return 1 / (1 + np.exp(-x)) # 시그모이드 공식\n"
          ]
        }
      ]
    },
    {
      "cell_type": "markdown",
      "source": [
        "### 3.7 정리"
      ],
      "metadata": {
        "id": "BBkMvjcVkSLz"
      }
    },
    {
      "cell_type": "code",
      "source": [
        "# 신경망은 각 층의 뉴런들이 다음 층의 뉴런으로 신호를 전달한다는 점에서 퍼셉트론과 같다\n",
        "# 다만 다음 뉴런으로 갈 때 신호를 변화시키는 활성화 함수가 존재한다\n",
        "\n",
        "# 정리\n",
        "\n",
        "# 신경망에서는 활성화 함수로 시그모이드 함수와 ReLU 함수 같은 매끄럽게 변화하는 함수를 이용한다\n",
        "# 넘파이의 다차원 배열을 잘 사용하면 신경망을 효율적으로 구현할 수 있다\n",
        "# 기계학습 문제는 크게 회귀와 분류로 나눌 수 있다\n",
        "# 출력층의 활성화 함수로는 회귀에서는 주로 항등 함수를, 분류에서는 소프트맥스 함수를 이용한다\n",
        "# 분류에서는 출력층의 뉴런 수를 분류하려는 클래스 수와 같게 설정한다\n",
        "# 입력 데이터를 묶은 것을 배치라고 하며, 추론 처리를 이 배치 단위로 진행하면 결과를 훨씬 빠르게 얻을 수 있다"
      ],
      "metadata": {
        "id": "Wb-GQ2EDfHOn"
      },
      "execution_count": null,
      "outputs": []
    }
  ]
}